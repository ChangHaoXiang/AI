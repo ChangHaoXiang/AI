{
  "nbformat": 4,
  "nbformat_minor": 0,
  "metadata": {
    "colab": {
      "name": "keras_CNN_Cifar10.ipynb",
      "provenance": [],
      "authorship_tag": "ABX9TyPlub/Lg6mWpLehf+6GJI9S",
      "include_colab_link": true
    },
    "kernelspec": {
      "name": "python3",
      "display_name": "Python 3"
    },
    "language_info": {
      "name": "python"
    }
  },
  "cells": [
    {
      "cell_type": "markdown",
      "metadata": {
        "id": "view-in-github",
        "colab_type": "text"
      },
      "source": [
        "<a href=\"https://colab.research.google.com/github/ChangHaoXiang/AI/blob/main/keras_CNN_Cifar10.ipynb\" target=\"_parent\"><img src=\"https://colab.research.google.com/assets/colab-badge.svg\" alt=\"Open In Colab\"/></a>"
      ]
    },
    {
      "cell_type": "code",
      "execution_count": 1,
      "metadata": {
        "colab": {
          "base_uri": "https://localhost:8080/"
        },
        "id": "Kr-ieIdJlwhW",
        "outputId": "f4a0b987-99f1-4f13-dfe2-ccc3d6644816"
      },
      "outputs": [
        {
          "output_type": "stream",
          "name": "stdout",
          "text": [
            "Model: \"sequential\"\n",
            "_________________________________________________________________\n",
            " Layer (type)                Output Shape              Param #   \n",
            "=================================================================\n",
            " conv2d (Conv2D)             (None, 28, 28, 64)        4864      \n",
            "                                                                 \n",
            " conv2d_1 (Conv2D)           (None, 24, 24, 64)        102464    \n",
            "                                                                 \n",
            " max_pooling2d (MaxPooling2D  (None, 12, 12, 64)       0         \n",
            " )                                                               \n",
            "                                                                 \n",
            " conv2d_2 (Conv2D)           (None, 8, 8, 128)         204928    \n",
            "                                                                 \n",
            " conv2d_3 (Conv2D)           (None, 4, 4, 128)         409728    \n",
            "                                                                 \n",
            " max_pooling2d_1 (MaxPooling  (None, 2, 2, 128)        0         \n",
            " 2D)                                                             \n",
            "                                                                 \n",
            " flatten (Flatten)           (None, 512)               0         \n",
            "                                                                 \n",
            " dense (Dense)               (None, 10)                5130      \n",
            "                                                                 \n",
            "=================================================================\n",
            "Total params: 727,114\n",
            "Trainable params: 727,114\n",
            "Non-trainable params: 0\n",
            "_________________________________________________________________\n"
          ]
        }
      ],
      "source": [
        "from tensorflow import keras\n",
        "from keras.models import Sequential\n",
        "from keras.layers import Dense, Conv2D, MaxPooling2D, Flatten\n",
        "model=Sequential()\n",
        "model.add(Conv2D(filters=64, kernel_size=(5, 5), input_shape=(32, 32, 3), activation='relu'))\n",
        "model.add(Conv2D(filters=64, kernel_size=(5, 5), activation='relu'))\n",
        "model.add(MaxPooling2D(pool_size=2))\n",
        "model.add(Conv2D(filters=128, kernel_size=(5, 5), activation='relu'))\n",
        "model.add(Conv2D(filters=128, kernel_size=(5, 5), activation='relu'))\n",
        "model.add(MaxPooling2D(pool_size=2))\n",
        "model.add(Flatten())\n",
        "model.add(Dense(10, activation='softmax'))\n",
        "model.summary()\n",
        "model.compile(optimizer='rmsprop', loss='categorical_crossentropy', metrics=['accuracy'])"
      ]
    },
    {
      "cell_type": "code",
      "source": [
        "cifar10=keras.datasets.cifar10\n",
        "(train_data, train_label), (test_data, test_label) = cifar10.load_data()\n",
        "train_label_original=train_label\n",
        "train_label = keras.utils.to_categorical(train_label)\n",
        "test_label = keras.utils.to_categorical(test_label)"
      ],
      "metadata": {
        "colab": {
          "base_uri": "https://localhost:8080/"
        },
        "id": "8Ryo9TzPl_Gp",
        "outputId": "98b90c23-bc50-41d7-932c-274eb19fd5ec"
      },
      "execution_count": 2,
      "outputs": [
        {
          "output_type": "stream",
          "name": "stdout",
          "text": [
            "Downloading data from https://www.cs.toronto.edu/~kriz/cifar-10-python.tar.gz\n",
            "170500096/170498071 [==============================] - 3s 0us/step\n",
            "170508288/170498071 [==============================] - 3s 0us/step\n"
          ]
        }
      ]
    },
    {
      "cell_type": "code",
      "source": [
        "import matplotlib.pyplot as plt\n",
        "category=['airplane','automobile','bird','cat','deer','dog','frog','horse','ship','truck']\n",
        "plt.imshow(train_data[0])\n",
        "plt.title(category[int(train_label_original[0])])\n",
        "plt.show()\n",
        "print(train_label_original[0])"
      ],
      "metadata": {
        "colab": {
          "base_uri": "https://localhost:8080/",
          "height": 298
        },
        "id": "tO_f-GeMmDGi",
        "outputId": "715c2164-6c38-4ede-c21c-46a2d8468968"
      },
      "execution_count": 3,
      "outputs": [
        {
          "output_type": "display_data",
          "data": {
            "text/plain": [
              "<Figure size 432x288 with 1 Axes>"
            ],
            "image/png": "[encoded data removed]"
          },
          "metadata": {
            "needs_background": "light"
          }
        },
        {
          "output_type": "stream",
          "name": "stdout",
          "text": [
            "[6]\n"
          ]
        }
      ]
    },
    {
      "cell_type": "code",
      "source": [
        "train_history=model.fit(train_data,train_label,epochs=30,batch_size=512)"
      ],
      "metadata": {
        "colab": {
          "base_uri": "https://localhost:8080/"
        },
        "id": "pjOPpCV0mFnp",
        "outputId": "41f1c2a7-0555-4c41-d36f-51784015e43f"
      },
      "execution_count": 4,
      "outputs": [
        {
          "output_type": "stream",
          "name": "stdout",
          "text": [
            "Epoch 1/30\n",
            "98/98 [==============================] - 567s 6s/step - loss: 17.8673 - accuracy: 0.1767\n",
            "Epoch 2/30\n",
            "98/98 [==============================] - 566s 6s/step - loss: 2.5247 - accuracy: 0.2044\n",
            "Epoch 3/30\n",
            "98/98 [==============================] - 566s 6s/step - loss: 2.0563 - accuracy: 0.3074\n",
            "Epoch 4/30\n",
            "98/98 [==============================] - 567s 6s/step - loss: 1.8679 - accuracy: 0.3639\n",
            "Epoch 5/30\n",
            "98/98 [==============================] - 566s 6s/step - loss: 1.7059 - accuracy: 0.4236\n",
            "Epoch 6/30\n",
            "98/98 [==============================] - 566s 6s/step - loss: 1.5776 - accuracy: 0.4689\n",
            "Epoch 7/30\n",
            "98/98 [==============================] - 566s 6s/step - loss: 1.3959 - accuracy: 0.5250\n",
            "Epoch 8/30\n",
            "98/98 [==============================] - 565s 6s/step - loss: 1.2389 - accuracy: 0.5761\n",
            "Epoch 9/30\n",
            "98/98 [==============================] - 565s 6s/step - loss: 1.0915 - accuracy: 0.6272\n",
            "Epoch 10/30\n",
            "98/98 [==============================] - 566s 6s/step - loss: 0.9726 - accuracy: 0.6689\n",
            "Epoch 11/30\n",
            "98/98 [==============================] - 565s 6s/step - loss: 0.8671 - accuracy: 0.7068\n",
            "Epoch 12/30\n",
            "98/98 [==============================] - 566s 6s/step - loss: 0.7336 - accuracy: 0.7485\n",
            "Epoch 13/30\n",
            "98/98 [==============================] - 566s 6s/step - loss: 0.6366 - accuracy: 0.7838\n",
            "Epoch 14/30\n",
            "98/98 [==============================] - 566s 6s/step - loss: 0.5302 - accuracy: 0.8207\n",
            "Epoch 15/30\n",
            "98/98 [==============================] - 565s 6s/step - loss: 0.4527 - accuracy: 0.8494\n",
            "Epoch 16/30\n",
            "98/98 [==============================] - 565s 6s/step - loss: 0.4178 - accuracy: 0.8625\n",
            "Epoch 17/30\n",
            "98/98 [==============================] - 566s 6s/step - loss: 0.3631 - accuracy: 0.8808\n",
            "Epoch 18/30\n",
            "98/98 [==============================] - 565s 6s/step - loss: 0.3041 - accuracy: 0.9010\n",
            "Epoch 19/30\n",
            "98/98 [==============================] - 564s 6s/step - loss: 0.2834 - accuracy: 0.9082\n",
            "Epoch 20/30\n",
            "98/98 [==============================] - 565s 6s/step - loss: 0.2835 - accuracy: 0.9145\n",
            "Epoch 21/30\n",
            "98/98 [==============================] - 564s 6s/step - loss: 0.2546 - accuracy: 0.9215\n",
            "Epoch 22/30\n",
            "98/98 [==============================] - 564s 6s/step - loss: 0.2387 - accuracy: 0.9264\n",
            "Epoch 23/30\n",
            "98/98 [==============================] - 564s 6s/step - loss: 0.2524 - accuracy: 0.9277\n",
            "Epoch 24/30\n",
            "98/98 [==============================] - 564s 6s/step - loss: 0.2089 - accuracy: 0.9382\n",
            "Epoch 25/30\n",
            "98/98 [==============================] - 564s 6s/step - loss: 0.2360 - accuracy: 0.9331\n",
            "Epoch 26/30\n",
            "98/98 [==============================] - 564s 6s/step - loss: 0.2157 - accuracy: 0.9376\n",
            "Epoch 27/30\n",
            "98/98 [==============================] - 565s 6s/step - loss: 0.1807 - accuracy: 0.9474\n",
            "Epoch 28/30\n",
            "98/98 [==============================] - 564s 6s/step - loss: 0.1989 - accuracy: 0.9443\n",
            "Epoch 29/30\n",
            "98/98 [==============================] - 564s 6s/step - loss: 0.1755 - accuracy: 0.9509\n",
            "Epoch 30/30\n",
            "98/98 [==============================] - 564s 6s/step - loss: 0.1788 - accuracy: 0.9495\n"
          ]
        }
      ]
    },
    {
      "cell_type": "code",
      "source": [
        "score=model.evaluate(test_data, test_label)\n",
        "print(score[1])"
      ],
      "metadata": {
        "colab": {
          "base_uri": "https://localhost:8080/"
        },
        "id": "QkwIOU9kw20O",
        "outputId": "6df18d49-6f8a-412e-aa12-33a3b2add7bf"
      },
      "execution_count": 5,
      "outputs": [
        {
          "output_type": "stream",
          "name": "stdout",
          "text": [
            "313/313 [==============================] - 34s 109ms/step - loss: 4.2372 - accuracy: 0.5782\n",
            "0.5781999826431274\n"
          ]
        }
      ]
    },
    {
      "cell_type": "code",
      "source": [
        "import matplotlib.pyplot as plt\n",
        "import numpy as np\n",
        "\n",
        "def show_train_history(train_history, train):\n",
        "    plt.plot(train_history.history[train])\n",
        "    plt.title('Train History')\n",
        "    plt.ylabel(train)\n",
        "    plt.xlabel('Epoch')\n",
        "    plt.legend(['train'], loc='center right')\n",
        "    plt.show()\n",
        "\n",
        "show_train_history(train_history, 'accuracy')\n",
        "show_train_history(train_history, 'loss')"
      ],
      "metadata": {
        "colab": {
          "base_uri": "https://localhost:8080/",
          "height": 573
        },
        "id": "x73ZSatzw_8E",
        "outputId": "0bf3a212-7056-4efe-cadd-a50a76a0916d"
      },
      "execution_count": 6,
      "outputs": [
        {
          "output_type": "display_data",
          "data": {
            "text/plain": [
              "<Figure size 432x288 with 1 Axes>"
            ],
            "image/png": "[encoded data removed]"
          },
          "metadata": {
            "needs_background": "light"
          }
        },
        {
          "output_type": "display_data",
          "data": {
            "text/plain": [
              "<Figure size 432x288 with 1 Axes>"
            ],
            "image/png": "[encoded data removed]"
          },
          "metadata": {
            "needs_background": "light"
          }
        }
      ]
    }
  ]
}